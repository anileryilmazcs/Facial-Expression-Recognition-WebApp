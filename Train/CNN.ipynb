{
 "cells": [
  {
   "cell_type": "code",
   "execution_count": null,
   "metadata": {
    "colab": {
     "base_uri": "https://localhost:8080/"
    },
    "executionInfo": {
     "elapsed": 28160,
     "status": "ok",
     "timestamp": 1619962579360,
     "user": {
      "displayName": "NOUMAN AHMAD",
      "photoUrl": "https://lh3.googleusercontent.com/a-/AOh14GhcQ3BpK0-GAMrjLlr__tOqeFHLlT11IEFK0ztPsVY=s64",
      "userId": "11031044337039581497"
     },
     "user_tz": -300
    },
    "id": "oD9HfkcCSaYO",
    "outputId": "c505a508-96d6-45f9-e0ec-2ca54c2bd25b"
   },
   "outputs": [],
   "source": []
  },
  {
   "cell_type": "code",
   "execution_count": null,
   "metadata": {
    "colab": {
     "base_uri": "https://localhost:8080/"
    },
    "executionInfo": {
     "elapsed": 1081,
     "status": "ok",
     "timestamp": 1619962621600,
     "user": {
      "displayName": "NOUMAN AHMAD",
      "photoUrl": "https://lh3.googleusercontent.com/a-/AOh14GhcQ3BpK0-GAMrjLlr__tOqeFHLlT11IEFK0ztPsVY=s64",
      "userId": "11031044337039581497"
     },
     "user_tz": -300
    },
    "id": "9Vqci-djSsDm",
    "outputId": "86ffa95e-2fa1-4433-945f-8ed09b735b7d"
   },
   "outputs": [],
   "source": []
  },
  {
   "cell_type": "code",
   "execution_count": null,
   "metadata": {
    "colab": {
     "base_uri": "https://localhost:8080/"
    },
    "executionInfo": {
     "elapsed": 1788,
     "status": "ok",
     "timestamp": 1619962645228,
     "user": {
      "displayName": "NOUMAN AHMAD",
      "photoUrl": "https://lh3.googleusercontent.com/a-/AOh14GhcQ3BpK0-GAMrjLlr__tOqeFHLlT11IEFK0ztPsVY=s64",
      "userId": "11031044337039581497"
     },
     "user_tz": -300
    },
    "id": "ySeD-5pWS9Mi",
    "outputId": "f9546b43-9be5-467f-e4b1-29086089a4a6"
   },
   "outputs": [],
   "source": [
    "import cv2,os\n",
    "data_path='data-set/'\n",
    "categories=os.listdir(data_path)\n",
    "labels=[i for i in range(len(categories))]\n",
    "\n",
    "label_dict=dict(zip(categories,labels)) #empty dictionary\n",
    "\n",
    "print(label_dict)\n",
    "print(categories)\n",
    "print(labels)"
   ]
  },
  {
   "cell_type": "code",
   "execution_count": null,
   "metadata": {
    "executionInfo": {
     "elapsed": 450983,
     "status": "ok",
     "timestamp": 1619963107580,
     "user": {
      "displayName": "NOUMAN AHMAD",
      "photoUrl": "https://lh3.googleusercontent.com/a-/AOh14GhcQ3BpK0-GAMrjLlr__tOqeFHLlT11IEFK0ztPsVY=s64",
      "userId": "11031044337039581497"
     },
     "user_tz": -300
    },
    "id": "tx1K5o4kTEO9"
   },
   "outputs": [],
   "source": [
    "img_size=48\n",
    "data=[]\n",
    "target=[]\n",
    "\n",
    "\n",
    "for category in categories:\n",
    "    folder_path=os.path.join(data_path,category)\n",
    "    img_names=os.listdir(folder_path)\n",
    "        \n",
    "    for img_name in img_names:\n",
    "        img_path=os.path.join(folder_path,img_name)\n",
    "        img=cv2.imread(img_path)\n",
    "\n",
    "        try:\n",
    "            gray=cv2.cvtColor(img,cv2.COLOR_BGR2GRAY)           \n",
    "            #Coverting the image into gray scale\n",
    "            resized=cv2.resize(gray,(img_size,img_size))\n",
    "            #resizing the gray scale into 48x48, since we need a fixed common size for all the images in the dataset\n",
    "            data.append(resized)\n",
    "            target.append(label_dict[category])\n",
    "            #appending the image and the label(categorized) into the list (dataset)\n",
    "\n",
    "        except Exception as e:\n",
    "            print('Exception:',e)\n",
    "            #if any exception rasied, the exception will be printed here. And pass to the next image"
   ]
  },
  {
   "cell_type": "code",
   "execution_count": null,
   "metadata": {
    "executionInfo": {
     "elapsed": 1181,
     "status": "ok",
     "timestamp": 1619963172720,
     "user": {
      "displayName": "NOUMAN AHMAD",
      "photoUrl": "https://lh3.googleusercontent.com/a-/AOh14GhcQ3BpK0-GAMrjLlr__tOqeFHLlT11IEFK0ztPsVY=s64",
      "userId": "11031044337039581497"
     },
     "user_tz": -300
    },
    "id": "bWNdzXgqTHcb"
   },
   "outputs": [],
   "source": [
    "import numpy as np\n",
    "data=np.array(data)/255.0\n",
    "data=np.reshape(data,(data.shape[0],img_size,img_size,1))\n",
    "target=np.array(target)\n",
    "from keras.utils import np_utils\n",
    "new_target=np_utils.to_categorical(target)"
   ]
  },
  {
   "cell_type": "code",
   "execution_count": null,
   "metadata": {
    "executionInfo": {
     "elapsed": 917,
     "status": "ok",
     "timestamp": 1619963172721,
     "user": {
      "displayName": "NOUMAN AHMAD",
      "photoUrl": "https://lh3.googleusercontent.com/a-/AOh14GhcQ3BpK0-GAMrjLlr__tOqeFHLlT11IEFK0ztPsVY=s64",
      "userId": "11031044337039581497"
     },
     "user_tz": -300
    },
    "id": "Arv6Cip7TMYp"
   },
   "outputs": [],
   "source": [
    "np.save('images.npy',data)\n",
    "np.save('labels.npy',new_target)"
   ]
  },
  {
   "cell_type": "code",
   "execution_count": null,
   "metadata": {
    "executionInfo": {
     "elapsed": 1197,
     "status": "ok",
     "timestamp": 1619963196836,
     "user": {
      "displayName": "NOUMAN AHMAD",
      "photoUrl": "https://lh3.googleusercontent.com/a-/AOh14GhcQ3BpK0-GAMrjLlr__tOqeFHLlT11IEFK0ztPsVY=s64",
      "userId": "11031044337039581497"
     },
     "user_tz": -300
    },
    "id": "XmWi4MrATQRX"
   },
   "outputs": [],
   "source": [
    "from keras.models import Sequential\n",
    "from keras.layers import Dense,Activation,Flatten,Dropout\n",
    "from keras.layers import Conv2D,MaxPooling2D\n",
    "from keras.callbacks import ModelCheckpoint\n",
    "\n",
    "model=Sequential()\n",
    "\n",
    "model.add(Conv2D(200,(3,3),input_shape=data.shape[1:]))\n",
    "model.add(Activation('relu'))\n",
    "model.add(MaxPooling2D(pool_size=(2,2)))\n",
    "#The first CNN layer followed by Relu and MaxPooling layers\n",
    "\n",
    "model.add(Conv2D(100,(3,3)))\n",
    "model.add(Activation('relu'))\n",
    "model.add(MaxPooling2D(pool_size=(2,2)))\n",
    "#The second convolution layer followed by Relu and MaxPooling layers\n",
    "\n",
    "model.add(Flatten())\n",
    "model.add(Dropout(0.5))\n",
    "#Flatten layer to stack the output convolutions from second convolution layer\n",
    "model.add(Dense(64,activation='relu'))\n",
    "#Dense layer of 64 neurons\n",
    "model.add(Dense(7,activation='softmax'))\n",
    "#The Final layer with two outputs for two categories\n",
    "\n",
    "model.compile(loss='categorical_crossentropy',optimizer='adam',metrics=['accuracy'])"
   ]
  },
  {
   "cell_type": "code",
   "execution_count": null,
   "metadata": {
    "executionInfo": {
     "elapsed": 939,
     "status": "ok",
     "timestamp": 1619963196837,
     "user": {
      "displayName": "NOUMAN AHMAD",
      "photoUrl": "https://lh3.googleusercontent.com/a-/AOh14GhcQ3BpK0-GAMrjLlr__tOqeFHLlT11IEFK0ztPsVY=s64",
      "userId": "11031044337039581497"
     },
     "user_tz": -300
    },
    "id": "Pnmhy95BTV2k"
   },
   "outputs": [],
   "source": []
  },
  {
   "cell_type": "code",
   "execution_count": null,
   "metadata": {
    "colab": {
     "base_uri": "https://localhost:8080/"
    },
    "executionInfo": {
     "elapsed": 626,
     "status": "ok",
     "timestamp": 1619963196838,
     "user": {
      "displayName": "NOUMAN AHMAD",
      "photoUrl": "https://lh3.googleusercontent.com/a-/AOh14GhcQ3BpK0-GAMrjLlr__tOqeFHLlT11IEFK0ztPsVY=s64",
      "userId": "11031044337039581497"
     },
     "user_tz": -300
    },
    "id": "RSaQJmwMTTZg",
    "outputId": "4480a2aa-e969-45b5-a2ad-c043d2515d80"
   },
   "outputs": [],
   "source": [
    "model.summary()"
   ]
  },
  {
   "cell_type": "code",
   "execution_count": null,
   "metadata": {
    "executionInfo": {
     "elapsed": 866,
     "status": "ok",
     "timestamp": 1619963197411,
     "user": {
      "displayName": "NOUMAN AHMAD",
      "photoUrl": "https://lh3.googleusercontent.com/a-/AOh14GhcQ3BpK0-GAMrjLlr__tOqeFHLlT11IEFK0ztPsVY=s64",
      "userId": "11031044337039581497"
     },
     "user_tz": -300
    },
    "id": "Y4u92XvvTT4V"
   },
   "outputs": [],
   "source": [
    "from sklearn.model_selection import train_test_split\n",
    "x_train, x_val, y_train, y_val=train_test_split(data,new_target,test_size=0.1)"
   ]
  },
  {
   "cell_type": "code",
   "execution_count": null,
   "metadata": {},
   "outputs": [],
   "source": [
    "x_train.shape"
   ]
  },
  {
   "cell_type": "code",
   "execution_count": 9,
   "metadata": {
    "colab": {
     "base_uri": "https://localhost:8080/"
    },
    "executionInfo": {
     "elapsed": 73820,
     "status": "ok",
     "timestamp": 1619963271199,
     "user": {
      "displayName": "NOUMAN AHMAD",
      "photoUrl": "https://lh3.googleusercontent.com/a-/AOh14GhcQ3BpK0-GAMrjLlr__tOqeFHLlT11IEFK0ztPsVY=s64",
      "userId": "11031044337039581497"
     },
     "user_tz": -300
    },
    "id": "coBV1WVbTZKN",
    "outputId": "e465820a-eb8d-4aa0-8bc6-cdf0a522a6b2"
   },
   "outputs": [
    {
     "name": "stdout",
     "output_type": "stream",
     "text": [
      "Epoch 1/100\n",
      "649/649 [==============================] - 88s 135ms/step - loss: 1.7694 - accuracy: 0.2774 - val_loss: 1.5760 - val_accuracy: 0.4086\n",
      "Epoch 2/100\n",
      "649/649 [==============================] - 89s 137ms/step - loss: 1.5557 - accuracy: 0.3933 - val_loss: 1.4578 - val_accuracy: 0.4493\n",
      "Epoch 3/100\n",
      "649/649 [==============================] - 90s 138ms/step - loss: 1.4558 - accuracy: 0.4286 - val_loss: 1.4084 - val_accuracy: 0.4649\n",
      "Epoch 4/100\n",
      "649/649 [==============================] - 90s 139ms/step - loss: 1.3769 - accuracy: 0.4706 - val_loss: 1.3452 - val_accuracy: 0.4801\n",
      "Epoch 5/100\n",
      "649/649 [==============================] - 90s 139ms/step - loss: 1.3372 - accuracy: 0.4869 - val_loss: 1.3421 - val_accuracy: 0.4792\n",
      "Epoch 6/100\n",
      "649/649 [==============================] - 91s 140ms/step - loss: 1.3037 - accuracy: 0.4985 - val_loss: 1.3217 - val_accuracy: 0.4880\n",
      "Epoch 7/100\n",
      "649/649 [==============================] - 91s 140ms/step - loss: 1.2701 - accuracy: 0.5115 - val_loss: 1.3134 - val_accuracy: 0.4990\n",
      "Epoch 8/100\n",
      "649/649 [==============================] - 91s 140ms/step - loss: 1.2448 - accuracy: 0.5161 - val_loss: 1.2859 - val_accuracy: 0.5071\n",
      "Epoch 9/100\n",
      "649/649 [==============================] - 89s 137ms/step - loss: 1.2137 - accuracy: 0.5326 - val_loss: 1.2902 - val_accuracy: 0.5025\n",
      "Epoch 10/100\n",
      "649/649 [==============================] - 89s 137ms/step - loss: 1.2132 - accuracy: 0.5265 - val_loss: 1.2763 - val_accuracy: 0.5093\n",
      "Epoch 11/100\n",
      "649/649 [==============================] - 89s 138ms/step - loss: 1.1746 - accuracy: 0.5503 - val_loss: 1.2971 - val_accuracy: 0.5077\n",
      "Epoch 12/100\n",
      "649/649 [==============================] - 89s 136ms/step - loss: 1.1715 - accuracy: 0.5484 - val_loss: 1.2764 - val_accuracy: 0.5129\n",
      "Epoch 13/100\n",
      "649/649 [==============================] - 89s 136ms/step - loss: 1.1440 - accuracy: 0.5664 - val_loss: 1.2747 - val_accuracy: 0.5120\n",
      "Epoch 14/100\n",
      "649/649 [==============================] - 88s 136ms/step - loss: 1.1330 - accuracy: 0.5683 - val_loss: 1.2697 - val_accuracy: 0.5162\n",
      "Epoch 15/100\n",
      "649/649 [==============================] - 88s 136ms/step - loss: 1.1209 - accuracy: 0.5746 - val_loss: 1.2731 - val_accuracy: 0.5121\n",
      "Epoch 16/100\n",
      "649/649 [==============================] - 88s 136ms/step - loss: 1.1263 - accuracy: 0.5683 - val_loss: 1.2706 - val_accuracy: 0.5197\n",
      "Epoch 17/100\n",
      "649/649 [==============================] - 88s 136ms/step - loss: 1.0987 - accuracy: 0.5826 - val_loss: 1.2727 - val_accuracy: 0.5249\n",
      "Epoch 18/100\n",
      "649/649 [==============================] - 88s 136ms/step - loss: 1.0781 - accuracy: 0.5880 - val_loss: 1.2660 - val_accuracy: 0.5258\n",
      "Epoch 19/100\n",
      "649/649 [==============================] - 88s 136ms/step - loss: 1.0603 - accuracy: 0.5983 - val_loss: 1.2767 - val_accuracy: 0.5166\n",
      "Epoch 20/100\n",
      "649/649 [==============================] - 88s 136ms/step - loss: 1.0515 - accuracy: 0.6057 - val_loss: 1.2683 - val_accuracy: 0.5199\n",
      "Epoch 21/100\n",
      "649/649 [==============================] - 88s 136ms/step - loss: 1.0356 - accuracy: 0.6093 - val_loss: 1.2731 - val_accuracy: 0.5200\n",
      "Epoch 22/100\n",
      "649/649 [==============================] - 88s 136ms/step - loss: 1.0165 - accuracy: 0.6160 - val_loss: 1.2695 - val_accuracy: 0.5172\n",
      "Epoch 23/100\n",
      "649/649 [==============================] - 90s 139ms/step - loss: 1.0207 - accuracy: 0.6092 - val_loss: 1.2638 - val_accuracy: 0.5299\n",
      "Epoch 24/100\n",
      "649/649 [==============================] - 90s 139ms/step - loss: 1.0095 - accuracy: 0.6180 - val_loss: 1.2721 - val_accuracy: 0.5177\n",
      "Epoch 25/100\n",
      "649/649 [==============================] - 91s 140ms/step - loss: 0.9989 - accuracy: 0.6240 - val_loss: 1.2614 - val_accuracy: 0.5274\n",
      "Epoch 26/100\n",
      "649/649 [==============================] - 91s 140ms/step - loss: 0.9821 - accuracy: 0.6220 - val_loss: 1.2859 - val_accuracy: 0.5216\n",
      "Epoch 27/100\n",
      "649/649 [==============================] - 91s 140ms/step - loss: 0.9667 - accuracy: 0.6339 - val_loss: 1.2799 - val_accuracy: 0.5260\n",
      "Epoch 28/100\n",
      "649/649 [==============================] - 91s 140ms/step - loss: 0.9543 - accuracy: 0.6361 - val_loss: 1.2889 - val_accuracy: 0.5249\n",
      "Epoch 29/100\n",
      "649/649 [==============================] - 88s 136ms/step - loss: 0.9636 - accuracy: 0.6396 - val_loss: 1.3135 - val_accuracy: 0.5204\n",
      "Epoch 30/100\n",
      "649/649 [==============================] - 88s 136ms/step - loss: 0.9434 - accuracy: 0.6433 - val_loss: 1.2803 - val_accuracy: 0.5235\n",
      "Epoch 31/100\n",
      "649/649 [==============================] - 89s 136ms/step - loss: 0.9324 - accuracy: 0.6470 - val_loss: 1.2949 - val_accuracy: 0.5268\n",
      "Epoch 32/100\n",
      "649/649 [==============================] - 88s 136ms/step - loss: 0.9226 - accuracy: 0.6495 - val_loss: 1.3291 - val_accuracy: 0.5253\n",
      "Epoch 33/100\n",
      "649/649 [==============================] - 90s 138ms/step - loss: 0.9091 - accuracy: 0.6548 - val_loss: 1.3001 - val_accuracy: 0.5245\n",
      "Epoch 34/100\n",
      "649/649 [==============================] - 89s 137ms/step - loss: 0.9007 - accuracy: 0.6596 - val_loss: 1.3151 - val_accuracy: 0.5200\n",
      "Epoch 35/100\n",
      "649/649 [==============================] - 89s 137ms/step - loss: 0.8994 - accuracy: 0.6653 - val_loss: 1.3200 - val_accuracy: 0.5185\n",
      "Epoch 36/100\n",
      "649/649 [==============================] - 89s 136ms/step - loss: 0.8909 - accuracy: 0.6673 - val_loss: 1.2976 - val_accuracy: 0.5220\n",
      "Epoch 37/100\n",
      "649/649 [==============================] - 89s 136ms/step - loss: 0.8834 - accuracy: 0.6654 - val_loss: 1.3175 - val_accuracy: 0.5210\n",
      "Epoch 38/100\n",
      "649/649 [==============================] - 88s 136ms/step - loss: 0.8793 - accuracy: 0.6660 - val_loss: 1.3040 - val_accuracy: 0.5279\n",
      "Epoch 39/100\n",
      "649/649 [==============================] - 89s 136ms/step - loss: 0.8512 - accuracy: 0.6792 - val_loss: 1.3148 - val_accuracy: 0.5303\n",
      "Epoch 40/100\n",
      "649/649 [==============================] - 88s 136ms/step - loss: 0.8622 - accuracy: 0.6760 - val_loss: 1.3112 - val_accuracy: 0.5231\n",
      "Epoch 41/100\n",
      "649/649 [==============================] - 89s 137ms/step - loss: 0.8510 - accuracy: 0.6800 - val_loss: 1.3487 - val_accuracy: 0.5272\n",
      "Epoch 42/100\n",
      "649/649 [==============================] - 89s 137ms/step - loss: 0.8455 - accuracy: 0.6850 - val_loss: 1.3527 - val_accuracy: 0.5285\n",
      "Epoch 43/100\n",
      "649/649 [==============================] - 88s 136ms/step - loss: 0.8384 - accuracy: 0.6856 - val_loss: 1.3047 - val_accuracy: 0.5291\n",
      "Epoch 44/100\n",
      "649/649 [==============================] - 88s 136ms/step - loss: 0.8201 - accuracy: 0.6933 - val_loss: 1.3300 - val_accuracy: 0.5251\n",
      "Epoch 45/100\n",
      "649/649 [==============================] - 88s 136ms/step - loss: 0.8012 - accuracy: 0.7003 - val_loss: 1.3437 - val_accuracy: 0.5264\n",
      "Epoch 46/100\n",
      "649/649 [==============================] - 90s 139ms/step - loss: 0.8093 - accuracy: 0.6994 - val_loss: 1.3338 - val_accuracy: 0.5239\n",
      "Epoch 47/100\n",
      "649/649 [==============================] - 90s 139ms/step - loss: 0.7978 - accuracy: 0.6958 - val_loss: 1.3404 - val_accuracy: 0.5285\n",
      "Epoch 48/100\n",
      "649/649 [==============================] - 90s 139ms/step - loss: 0.7939 - accuracy: 0.7054 - val_loss: 1.3313 - val_accuracy: 0.5222\n",
      "Epoch 49/100\n",
      "649/649 [==============================] - 90s 138ms/step - loss: 0.7792 - accuracy: 0.7073 - val_loss: 1.3625 - val_accuracy: 0.5279\n",
      "Epoch 50/100\n",
      "649/649 [==============================] - 90s 139ms/step - loss: 0.7556 - accuracy: 0.7212 - val_loss: 1.3728 - val_accuracy: 0.5239\n",
      "Epoch 51/100\n",
      "649/649 [==============================] - 90s 138ms/step - loss: 0.7594 - accuracy: 0.7172 - val_loss: 1.3632 - val_accuracy: 0.5193\n",
      "Epoch 52/100\n",
      "649/649 [==============================] - 90s 138ms/step - loss: 0.7693 - accuracy: 0.7141 - val_loss: 1.4005 - val_accuracy: 0.5218\n",
      "Epoch 53/100\n",
      "649/649 [==============================] - 90s 138ms/step - loss: 0.7568 - accuracy: 0.7185 - val_loss: 1.3662 - val_accuracy: 0.5253\n",
      "Epoch 54/100\n",
      "649/649 [==============================] - 90s 138ms/step - loss: 0.7755 - accuracy: 0.7114 - val_loss: 1.3772 - val_accuracy: 0.5224\n",
      "Epoch 55/100\n",
      "649/649 [==============================] - 90s 138ms/step - loss: 0.7450 - accuracy: 0.7205 - val_loss: 1.3798 - val_accuracy: 0.5266\n",
      "Epoch 56/100\n",
      "649/649 [==============================] - 90s 138ms/step - loss: 0.7379 - accuracy: 0.7254 - val_loss: 1.3686 - val_accuracy: 0.5272\n"
     ]
    },
    {
     "name": "stdout",
     "output_type": "stream",
     "text": [
      "Epoch 57/100\n",
      "649/649 [==============================] - 90s 138ms/step - loss: 0.7245 - accuracy: 0.7262 - val_loss: 1.3881 - val_accuracy: 0.5231\n",
      "Epoch 58/100\n",
      "649/649 [==============================] - 90s 138ms/step - loss: 0.7396 - accuracy: 0.7215 - val_loss: 1.3770 - val_accuracy: 0.5322\n",
      "Epoch 59/100\n",
      "649/649 [==============================] - 90s 138ms/step - loss: 0.7243 - accuracy: 0.7319 - val_loss: 1.3949 - val_accuracy: 0.5239\n",
      "Epoch 60/100\n",
      "649/649 [==============================] - 90s 138ms/step - loss: 0.7219 - accuracy: 0.7322 - val_loss: 1.4421 - val_accuracy: 0.5253\n",
      "Epoch 61/100\n",
      "649/649 [==============================] - 89s 138ms/step - loss: 0.7090 - accuracy: 0.7346 - val_loss: 1.4134 - val_accuracy: 0.5297\n",
      "Epoch 62/100\n",
      "649/649 [==============================] - 90s 138ms/step - loss: 0.7217 - accuracy: 0.7334 - val_loss: 1.4500 - val_accuracy: 0.5330\n",
      "Epoch 63/100\n",
      "649/649 [==============================] - 90s 138ms/step - loss: 0.7016 - accuracy: 0.7340 - val_loss: 1.4419 - val_accuracy: 0.5324\n",
      "Epoch 64/100\n",
      "649/649 [==============================] - 90s 138ms/step - loss: 0.6971 - accuracy: 0.7426 - val_loss: 1.4153 - val_accuracy: 0.5287\n",
      "Epoch 65/100\n",
      "649/649 [==============================] - 90s 138ms/step - loss: 0.6800 - accuracy: 0.7455 - val_loss: 1.4431 - val_accuracy: 0.5235\n",
      "Epoch 66/100\n",
      "649/649 [==============================] - 90s 138ms/step - loss: 0.6842 - accuracy: 0.7473 - val_loss: 1.4369 - val_accuracy: 0.5224\n",
      "Epoch 67/100\n",
      "649/649 [==============================] - 89s 138ms/step - loss: 0.6679 - accuracy: 0.7523 - val_loss: 1.4594 - val_accuracy: 0.5183\n",
      "Epoch 68/100\n",
      "649/649 [==============================] - 90s 138ms/step - loss: 0.6697 - accuracy: 0.7525 - val_loss: 1.4810 - val_accuracy: 0.5226\n",
      "Epoch 69/100\n",
      "649/649 [==============================] - 90s 138ms/step - loss: 0.6770 - accuracy: 0.7486 - val_loss: 1.4330 - val_accuracy: 0.5312\n",
      "Epoch 70/100\n",
      "649/649 [==============================] - 90s 138ms/step - loss: 0.6696 - accuracy: 0.7479 - val_loss: 1.4847 - val_accuracy: 0.5318\n",
      "Epoch 71/100\n",
      "649/649 [==============================] - 90s 138ms/step - loss: 0.6680 - accuracy: 0.7530 - val_loss: 1.4236 - val_accuracy: 0.5235\n",
      "Epoch 72/100\n",
      "649/649 [==============================] - 90s 138ms/step - loss: 0.6627 - accuracy: 0.7540 - val_loss: 1.4708 - val_accuracy: 0.5305\n",
      "Epoch 73/100\n",
      "649/649 [==============================] - 90s 139ms/step - loss: 0.6546 - accuracy: 0.7529 - val_loss: 1.4400 - val_accuracy: 0.5310\n",
      "Epoch 74/100\n",
      "649/649 [==============================] - 89s 138ms/step - loss: 0.6410 - accuracy: 0.7607 - val_loss: 1.4767 - val_accuracy: 0.5312\n",
      "Epoch 75/100\n",
      "649/649 [==============================] - 90s 138ms/step - loss: 0.6378 - accuracy: 0.7666 - val_loss: 1.4631 - val_accuracy: 0.5289\n",
      "Epoch 76/100\n",
      "649/649 [==============================] - 89s 138ms/step - loss: 0.6384 - accuracy: 0.7655 - val_loss: 1.4768 - val_accuracy: 0.5243\n",
      "Epoch 77/100\n",
      "649/649 [==============================] - 90s 138ms/step - loss: 0.6302 - accuracy: 0.7647 - val_loss: 1.4080 - val_accuracy: 0.5177\n",
      "Epoch 78/100\n",
      "649/649 [==============================] - 90s 138ms/step - loss: 0.6473 - accuracy: 0.7538 - val_loss: 1.4725 - val_accuracy: 0.5264\n",
      "Epoch 79/100\n",
      "649/649 [==============================] - 90s 138ms/step - loss: 0.6180 - accuracy: 0.7706 - val_loss: 1.5023 - val_accuracy: 0.5222\n",
      "Epoch 80/100\n",
      "649/649 [==============================] - 89s 138ms/step - loss: 0.6268 - accuracy: 0.7685 - val_loss: 1.5050 - val_accuracy: 0.5330\n",
      "Epoch 81/100\n",
      "649/649 [==============================] - 90s 138ms/step - loss: 0.6281 - accuracy: 0.7683 - val_loss: 1.5073 - val_accuracy: 0.5341\n",
      "Epoch 82/100\n",
      "649/649 [==============================] - 90s 138ms/step - loss: 0.6245 - accuracy: 0.7659 - val_loss: 1.5261 - val_accuracy: 0.5316\n",
      "Epoch 83/100\n",
      "649/649 [==============================] - 90s 138ms/step - loss: 0.6176 - accuracy: 0.7710 - val_loss: 1.4842 - val_accuracy: 0.5310\n",
      "Epoch 84/100\n",
      "649/649 [==============================] - 90s 138ms/step - loss: 0.6077 - accuracy: 0.7745 - val_loss: 1.4977 - val_accuracy: 0.5332\n",
      "Epoch 85/100\n",
      "649/649 [==============================] - 90s 138ms/step - loss: 0.6105 - accuracy: 0.7727 - val_loss: 1.5364 - val_accuracy: 0.5330\n",
      "Epoch 86/100\n",
      "649/649 [==============================] - 90s 138ms/step - loss: 0.5915 - accuracy: 0.7788 - val_loss: 1.4787 - val_accuracy: 0.5241\n",
      "Epoch 87/100\n",
      "649/649 [==============================] - 90s 138ms/step - loss: 0.6082 - accuracy: 0.7767 - val_loss: 1.5074 - val_accuracy: 0.5249\n",
      "Epoch 88/100\n",
      "649/649 [==============================] - 90s 138ms/step - loss: 0.5987 - accuracy: 0.7801 - val_loss: 1.5811 - val_accuracy: 0.5295\n",
      "Epoch 89/100\n",
      "649/649 [==============================] - 90s 138ms/step - loss: 0.5853 - accuracy: 0.7848 - val_loss: 1.5579 - val_accuracy: 0.5254\n",
      "Epoch 90/100\n",
      "649/649 [==============================] - 90s 138ms/step - loss: 0.5878 - accuracy: 0.7817 - val_loss: 1.5139 - val_accuracy: 0.5274\n",
      "Epoch 91/100\n",
      "649/649 [==============================] - 89s 138ms/step - loss: 0.5969 - accuracy: 0.7842 - val_loss: 1.5843 - val_accuracy: 0.5305\n",
      "Epoch 92/100\n",
      "649/649 [==============================] - 92s 142ms/step - loss: 0.5781 - accuracy: 0.7884 - val_loss: 1.5395 - val_accuracy: 0.5362\n",
      "Epoch 93/100\n",
      "649/649 [==============================] - 91s 140ms/step - loss: 0.5811 - accuracy: 0.7847 - val_loss: 1.5474 - val_accuracy: 0.5264\n",
      "Epoch 94/100\n",
      "649/649 [==============================] - 90s 139ms/step - loss: 0.5790 - accuracy: 0.7870 - val_loss: 1.5366 - val_accuracy: 0.5266\n",
      "Epoch 95/100\n",
      "649/649 [==============================] - 90s 138ms/step - loss: 0.5828 - accuracy: 0.7850 - val_loss: 1.5641 - val_accuracy: 0.5305\n",
      "Epoch 96/100\n",
      "649/649 [==============================] - 90s 139ms/step - loss: 0.5868 - accuracy: 0.7845 - val_loss: 1.5426 - val_accuracy: 0.5251\n",
      "Epoch 97/100\n",
      "649/649 [==============================] - 90s 139ms/step - loss: 0.5782 - accuracy: 0.7871 - val_loss: 1.5044 - val_accuracy: 0.5353\n",
      "Epoch 98/100\n",
      "649/649 [==============================] - 90s 138ms/step - loss: 0.5761 - accuracy: 0.7858 - val_loss: 1.5247 - val_accuracy: 0.5260\n",
      "Epoch 99/100\n",
      "649/649 [==============================] - 90s 139ms/step - loss: 0.5701 - accuracy: 0.7905 - val_loss: 1.5319 - val_accuracy: 0.5301\n",
      "Epoch 100/100\n",
      "649/649 [==============================] - 90s 138ms/step - loss: 0.5517 - accuracy: 0.7954 - val_loss: 1.5497 - val_accuracy: 0.5318\n"
     ]
    }
   ],
   "source": [
    "#checkpoint = ModelCheckpoint('model-{epoch:03d}.model',monitor='val_loss',verbose=0,save_best_only=True,mode='auto')\n",
    "history=model.fit(x_train,y_train,epochs=20,validation_split=0.2)"
   ]
  },
  {
   "cell_type": "code",
   "execution_count": null,
   "metadata": {
    "id": "xvTASnZETgik"
   },
   "outputs": [],
   "source": [
    " model.save('model.h5')"
   ]
  },
  {
   "cell_type": "code",
   "execution_count": null,
   "metadata": {
    "id": "pdWj_QQ8TdOm"
   },
   "outputs": [],
   "source": [
    "from matplotlib import pyplot as plt"
   ]
  },
  {
   "cell_type": "code",
   "execution_count": null,
   "metadata": {
    "id": "EU368oISTlAN"
   },
   "outputs": [],
   "source": [
    "# Plot training & validation accuracy values\n",
    "plt.plot(history.history['accuracy'])\n",
    "plt.plot(history.history['val_accuracy'])\n",
    "plt.title('Model accuracy')\n",
    "plt.ylabel('Accuracy')\n",
    "plt.xlabel('Epoch')\n",
    "plt.legend(['Train Accuracy', 'Validation Accuracy'], loc='lower left')\n",
    "plt.savefig(\"Cnn_acc\")\n",
    "plt.show()\n",
    "\n",
    "# Plot training & validation loss values\n",
    "plt.plot(history.history['loss'])\n",
    "plt.plot(history.history['val_loss'])\n",
    "plt.title('Model loss')\n",
    "plt.ylabel('Loss')\n",
    "plt.xlabel('Epoch')\n",
    "plt.legend(['Training Loss', 'Validation Loss'], loc='upper right')\n",
    "plt.savefig(\"Cnn_loss\")\n",
    "plt.show()"
   ]
  },
  {
   "cell_type": "code",
   "execution_count": null,
   "metadata": {
    "id": "xXMesa4RTmtT"
   },
   "outputs": [],
   "source": [
    "import itertools\n",
    "\n",
    "\n",
    "%matplotlib inline"
   ]
  },
  {
   "cell_type": "code",
   "execution_count": null,
   "metadata": {
    "id": "sl6nWvjATooS"
   },
   "outputs": [],
   "source": [
    "Y_val_pred = model.predict(x_val)"
   ]
  },
  {
   "cell_type": "code",
   "execution_count": null,
   "metadata": {
    "id": "wcedG7YiTqbO"
   },
   "outputs": [],
   "source": [
    "\n",
    "from sklearn.metrics import confusion_matrix\n",
    "\n",
    "def plot_confusion_matrix(cm, classes,\n",
    "                          normalize=True,\n",
    "                          title='Confusion matrix',\n",
    "                          cmap=plt.cm.Blues):\n",
    "    \"\"\"\n",
    "    This function prints and plots the confusion matrix.\n",
    "    Normalization can be applied by setting `normalize=True`.\n",
    "    \"\"\"\n",
    "    if normalize:\n",
    "        cm = cm.astype('float') / cm.sum(axis=1)[:, np.newaxis]\n",
    "        print(\"Normalized confusion matrix\")\n",
    "    else:\n",
    "        print('Confusion matrix, without normalization')\n",
    "\n",
    "    print(cm)\n",
    "\n",
    "    plt.imshow(cm, interpolation='nearest', cmap=cmap)\n",
    "    plt.title(title)\n",
    "    plt.colorbar()\n",
    "    tick_marks = np.arange(len(classes))\n",
    "    plt.xticks(tick_marks, classes, rotation=55)\n",
    "    plt.yticks(tick_marks, classes)\n",
    "\n",
    "    fmt = '.2f' if normalize else 'd'\n",
    "    thresh = cm.max() / 2.\n",
    "    for i, j in itertools.product(range(cm.shape[0]), range(cm.shape[1])):\n",
    "        plt.text(j, i, format(cm[i, j], fmt),\n",
    "                 horizontalalignment=\"center\",\n",
    "                 color=\"white\" if cm[i, j] > thresh else \"black\")\n",
    "\n",
    "    plt.ylabel('True label')\n",
    "    plt.xlabel('Predicted label')\n",
    "\n",
    "    plt.tight_layout()\n",
    "    plt.grid(False)\n",
    "    plt.savefig(\"Cnn_conf_matrix.png\")\n",
    "cm = confusion_matrix(np.argmax(y_val, axis=1), np.argmax(Y_val_pred, axis=1))\n",
    "\n",
    "cm_plot_label =['Angry', 'Disgust','Fear','Happy','neutral','Sad','Surprise']\n",
    "plot_confusion_matrix(cm, cm_plot_label, title ='Confusion Metrix')"
   ]
  },
  {
   "cell_type": "code",
   "execution_count": null,
   "metadata": {},
   "outputs": [],
   "source": []
  },
  {
   "cell_type": "code",
   "execution_count": null,
   "metadata": {},
   "outputs": [],
   "source": []
  },
  {
   "cell_type": "code",
   "execution_count": null,
   "metadata": {},
   "outputs": [],
   "source": []
  }
 ],
 "metadata": {
  "accelerator": "GPU",
  "colab": {
   "authorship_tag": "ABX9TyNkR5hTNuCuMfPLJdR/YVok",
   "name": "CNN.ipynb",
   "provenance": []
  },
  "kernelspec": {
   "display_name": "Python 3",
   "language": "python",
   "name": "python3"
  },
  "language_info": {
   "codemirror_mode": {
    "name": "ipython",
    "version": 3
   },
   "file_extension": ".py",
   "mimetype": "text/x-python",
   "name": "python",
   "nbconvert_exporter": "python",
   "pygments_lexer": "ipython3",
   "version": "3.8.5"
  }
 },
 "nbformat": 4,
 "nbformat_minor": 1
}
